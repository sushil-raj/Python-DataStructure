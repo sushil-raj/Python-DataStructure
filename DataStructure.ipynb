{
  "nbformat": 4,
  "nbformat_minor": 0,
  "metadata": {
    "colab": {
      "provenance": []
    },
    "kernelspec": {
      "name": "python3",
      "display_name": "Python 3"
    },
    "language_info": {
      "name": "python"
    }
  },
  "cells": [
    {
      "cell_type": "markdown",
      "source": [
        "# Data Structure Theory :"
      ],
      "metadata": {
        "id": "t-mmp6v8Oy9o"
      }
    },
    {
      "cell_type": "markdown",
      "source": [
        " Ques 1. What are data structures, and why are they important?\n",
        "\n",
        " Ans.Data structures are ways to organize and store data so that we can access, and modify the data efficiently which leads to improving the performance of algorithms. Built-in data structures include lists, tuples, sets, and dictionaries. They help manage data by providing operations like insertion, deletion, and traversal, which are essential for solving problems efficiently in Python programming.\n",
        "\n",
        "Ques 2.Explain the difference between mutable and immutable data types with examples.\n",
        "\n",
        "Ans.In Python, mutable data types are those that can be modified after creation, such as lists, dictionaries, and sets . Immutable data types cannot be changed once created, including tuples , strings ,int and float.\n",
        "\n",
        "\n",
        "Ques 3.What are the main differences between lists and tuples in Python?\n",
        "\n",
        "Ans.Lists are mutable, allowing elements to be added, removed, or modified, making them versatile for dynamic collections. Tuples, on the other hand, are immutable, providing a fixed structure that cannot be altered, which makes them faster and more memory-efficient. Lists use square brackets [], while tuples use parentheses ().\n",
        "\n",
        "Ques 4.Describe how dictionaries store data.\n",
        "\n",
        "Ans.Dictionaries store data in key-value pairs, where each key is unique and maps to a specific value. Python uses a hash table internally, allowing constant-time complexity (O(1)) for operations like insertion, and deletion, making dictionaries highly efficient for data retrieval.\n",
        "\n",
        "\n",
        "Ques 5.Why might you use a set instead of a list in Python?\n",
        "\n",
        "Ans.Sets are used when you need to store unique elements and avoid duplicates. Sets are also optimized for fast membership tests (checking if an element exists) because they use a hash table internally. Unlike lists, sets are unordered and cannot contain duplicate values, making them useful for operations like union, intersection, and difference.\n",
        "\n",
        "Ques 6. What is a string in Python, and how is it different from a list?\n",
        "\n",
        "Ans. A string in Python is an ordered sequence of characters enclosed in quotes (single, double, or triple). Unlike lists, strings are immutable, meaning their characters cannot be altered once defined, and they only store character data, not heterogeneous types.\n",
        "\n",
        "Ques 7. How do tuples ensure data integrity in Python?\n",
        "\n",
        "Ans Tuples are immutable, so once a tuple is created, its contents cannot be changed. This immutability guarantees that the data remains consistent throughout the program, which is especially useful when you need to protect the integrity of fixed collections of values.\n",
        "\n",
        "Ques 8. What is a hash table, and how does it relate to dictionaries in Python?\n",
        "\n",
        "Ans.A hash table is a data structure that maps keys to values using a hash function for quick lookups. Python dictionaries are implemented using hash tables, allowing them to perform key-based operations like insertion, deletion, and access in constant time on average.\n",
        "\n",
        "Ques 9. Can lists contain different data types in Python?\n",
        "\n",
        "Ans. Yes, Python lists can contain elements of various data types, including numbers, strings, objects, and even other lists. This flexibility makes lists very versatile for storing collections of heterogeneous data.\n",
        "\n",
        "Ques 10. Explain why strings are immutable in Python.\n",
        "\n",
        "Ans. Strings are immutable to enhance performance and security; they allow for efficient memory management and caching. This immutability also ensures that when strings are shared between different parts of a program, their values remain consistent and unaltered.\n",
        "\n",
        "Ques 11. What advantages do dictionaries offer over lists for certain tasks?\n",
        "\n",
        "Ans.Dictionaries provide fast, constant-time lookups for values using unique keys, which is more efficient than searching through a list sequentially. They are ideal for mapping relationships and when you need to access elements via a non-integer key, enhancing both speed and code clarity.\n",
        "\n",
        "Ques 12. Describe a scenario where using a tuple would be preferable over a list.\n",
        "\n",
        "Ans.Tuples are ideal when you have a fixed collection of items that should not change, such as storing coordinates or representing records like (Employee id , name, age, city). Their immutability ensures that the data remains constant, which can also provide performance benefits over mutable lists.\n",
        "\n",
        "Ques 13. How do sets handle duplicate values in Python?\n",
        "\n",
        "Ans.Sets automatically remove duplicate elements since they are designed to store only unique items. When you add elements to a set, any duplicates are ignored, making sets an efficient choice for ensuring a collection has no repeated values.\n",
        "\n",
        "Ques 14. How does the “in” keyword work differently for lists and dictionaries?\n",
        "\n",
        "Ans.For lists, the in keyword checks if a specific value exists by scanning through each element, which can be less efficient for long lists. In dictionaries, in checks if a key exists using the underlying hash table, offering a much faster lookup.\n",
        "\n",
        "Ques 15. Can you modify the elements of a tuple? Explain why or why not.\n",
        "\n",
        "Ans.No, you cannot modify the elements of a tuple because tuples are immutable. Once a tuple is created, its contents are fixed, ensuring data integrity and enabling performance optimizations like caching.\n",
        "\n",
        "Ques 16. What is a nested dictionary, and give an example of its use case?\n",
        "\n",
        "Ans.A nested dictionary is a dictionary that contains other dictionaries as its values. For example, a nested dictionary can represent a collection of user profiles where each key is a username and its value is another dictionary containing user details (like email, age, and address).\n",
        "\n",
        "Ques 17. Describe the time complexity of accessing elements in a dictionary.\n",
        "\n",
        "Ans. Accessing elements in a dictionary is typically O(1) on average, thanks to the hash table implementation. This constant-time performance makes dictionaries extremely efficient for retrieving values based on their keys.\n",
        "\n",
        "Ques 18. In what situations are lists preferred over dictionaries?\n",
        "\n",
        "Ans. Lists are preferred when you need to maintain an ordered collection of items or when the order of elements is important. They are also useful when you need to store data that is naturally sequential and when operations like sorting and indexing are required.\n",
        "\n",
        "Ques 19. Why are dictionaries considered unordered, and how does that affect data retrieval?\n",
        "\n",
        "Ans.Historically, dictionaries in Python did not maintain insertion order, though Python 3.7+ guarantees insertion order. However, they are considered unordered because their primary design is for fast key-based lookups rather than ordered traversal. The unordered nature (or order preservation as a secondary feature) means retrieval is optimized for speed, not sequence.\n",
        "\n",
        "Ques 20. Explain the difference between a list and a dictionary in terms of data retrieval.\n",
        "\n",
        "Ans.Lists retrieve data by index, requiring sequential access or iteration to find a value if the index is unknown, which can be less efficient for large datasets. Dictionaries retrieve data via unique keys using a hash table, providing faster, constant-time access for known keys, which is ideal for direct lookups."
      ],
      "metadata": {
        "id": "SLw1g_bhQE4v"
      }
    },
    {
      "cell_type": "markdown",
      "source": [
        "## Practical Questions"
      ],
      "metadata": {
        "id": "RqNiX0WOLVyr"
      }
    },
    {
      "cell_type": "code",
      "source": [
        "# Creating string and printing my name.\n",
        "name = \"Sushil Pal\"\n",
        "print(name)"
      ],
      "metadata": {
        "colab": {
          "base_uri": "https://localhost:8080/"
        },
        "id": "eo81jrU-LgnV",
        "outputId": "9c014d0b-57aa-470c-b2c0-853370e87527"
      },
      "execution_count": null,
      "outputs": [
        {
          "output_type": "stream",
          "name": "stdout",
          "text": [
            "Sushil Pal\n"
          ]
        }
      ]
    },
    {
      "cell_type": "code",
      "source": [
        "#Finding lenght of the string Hello World\n",
        "string = \"Hello World\"\n",
        "print(len(string))"
      ],
      "metadata": {
        "colab": {
          "base_uri": "https://localhost:8080/"
        },
        "id": "2GHXyubaL6GD",
        "outputId": "3804e349-5eec-47b7-ef77-e511cf70e658"
      },
      "execution_count": null,
      "outputs": [
        {
          "output_type": "stream",
          "name": "stdout",
          "text": [
            "11\n"
          ]
        }
      ]
    },
    {
      "cell_type": "code",
      "source": [
        "#Printing first 3 char. of python programming\n",
        "Curr_course = \"Python Programming\"\n",
        "print(Curr_course[0:3:1])"
      ],
      "metadata": {
        "colab": {
          "base_uri": "https://localhost:8080/"
        },
        "id": "RmqhrzryMFi1",
        "outputId": "4f33dcc6-b3b2-47ee-ef42-92ae94ff36de"
      },
      "execution_count": null,
      "outputs": [
        {
          "output_type": "stream",
          "name": "stdout",
          "text": [
            "Pyt\n"
          ]
        }
      ]
    },
    {
      "cell_type": "code",
      "source": [
        "#Converting the hello to uppercase\n",
        "greet = \"hello\"\n",
        "print(greet.upper())\n"
      ],
      "metadata": {
        "colab": {
          "base_uri": "https://localhost:8080/"
        },
        "id": "7HWs0UiwMpom",
        "outputId": "ce59f361-0ed5-4788-8a85-b94c7903ff00"
      },
      "execution_count": null,
      "outputs": [
        {
          "output_type": "stream",
          "name": "stdout",
          "text": [
            "HELLO\n"
          ]
        }
      ]
    },
    {
      "cell_type": "code",
      "source": [
        "#Replace apple with orange in the string\n",
        "fruit = \"I like apples\"\n",
        "print(fruit.replace(\"apples\",\"orange\"))\n"
      ],
      "metadata": {
        "colab": {
          "base_uri": "https://localhost:8080/"
        },
        "id": "ZzsIpZ0TNTgm",
        "outputId": "93d23fe2-be63-4af2-fb4e-1a50cf2873cf"
      },
      "execution_count": null,
      "outputs": [
        {
          "output_type": "stream",
          "name": "stdout",
          "text": [
            "I like orange\n"
          ]
        }
      ]
    },
    {
      "cell_type": "code",
      "source": [
        "#printing list value\n",
        "list1 = [1,2,3,4,5]\n",
        "for i in list:\n",
        "    print(i)"
      ],
      "metadata": {
        "colab": {
          "base_uri": "https://localhost:8080/"
        },
        "id": "J16POAL0OGUs",
        "outputId": "b2daac5c-1b49-4241-9e55-dffd881ceafe"
      },
      "execution_count": null,
      "outputs": [
        {
          "output_type": "stream",
          "name": "stdout",
          "text": [
            "1\n",
            "2\n",
            "3\n",
            "4\n",
            "5\n"
          ]
        }
      ]
    },
    {
      "cell_type": "code",
      "source": [
        "#Append the number 10 in the list\n",
        "list2 = [1,2,3,4]\n",
        "list.append(10)\n",
        "print(list)"
      ],
      "metadata": {
        "colab": {
          "base_uri": "https://localhost:8080/"
        },
        "id": "bDMqsFecOZBP",
        "outputId": "e1334c9f-bcd4-4d96-b6be-9b0da397224e"
      },
      "execution_count": null,
      "outputs": [
        {
          "output_type": "stream",
          "name": "stdout",
          "text": [
            "[1, 2, 3, 4, 10]\n"
          ]
        }
      ]
    },
    {
      "cell_type": "code",
      "source": [
        "#Remove 3 from the list\n",
        "list3 = [1,2,3,4,5]\n",
        "list3.remove(3)\n",
        "print(list3)"
      ],
      "metadata": {
        "colab": {
          "base_uri": "https://localhost:8080/"
        },
        "id": "0RVFFCk9O96C",
        "outputId": "8bc7f1cc-a95d-4c60-f026-e1e00495164b"
      },
      "execution_count": null,
      "outputs": [
        {
          "output_type": "stream",
          "name": "stdout",
          "text": [
            "[1, 2, 4, 5]\n"
          ]
        }
      ]
    },
    {
      "cell_type": "code",
      "source": [
        "#Access second value from the list\n",
        "list4 = ['a','b','c','d']\n",
        "print(list4[1])"
      ],
      "metadata": {
        "colab": {
          "base_uri": "https://localhost:8080/"
        },
        "id": "UgQpbboaQVfu",
        "outputId": "53bb1f53-7e39-487b-9d70-1311ee9b301b"
      },
      "execution_count": null,
      "outputs": [
        {
          "output_type": "stream",
          "name": "stdout",
          "text": [
            "b\n"
          ]
        }
      ]
    },
    {
      "cell_type": "code",
      "source": [
        "#Reversing a list through slicing\n",
        "list5 = [10,20,30,40,50]\n",
        "print(list5[::-1])"
      ],
      "metadata": {
        "colab": {
          "base_uri": "https://localhost:8080/"
        },
        "id": "ecdzHXvCQyyf",
        "outputId": "30b2bfaf-f819-4a84-e2fd-5a5c9b992162"
      },
      "execution_count": null,
      "outputs": [
        {
          "output_type": "stream",
          "name": "stdout",
          "text": [
            "[50, 40, 30, 20, 10]\n"
          ]
        }
      ]
    },
    {
      "cell_type": "code",
      "source": [
        "#Creating a tuple with the value 100,200,300\n",
        "tuple1 = (100,200,300)\n",
        "print(tuple1)"
      ],
      "metadata": {
        "colab": {
          "base_uri": "https://localhost:8080/"
        },
        "id": "Y6DuFMSCS64D",
        "outputId": "51bf9f0a-e594-4042-f30e-32737cc9e166"
      },
      "execution_count": null,
      "outputs": [
        {
          "output_type": "stream",
          "name": "stdout",
          "text": [
            "(100, 200, 300)\n"
          ]
        }
      ]
    },
    {
      "cell_type": "code",
      "source": [
        "#Accessing second last element of the tuple\n",
        "tuple2= ('red', 'green', 'blue', 'yellow')\n",
        "print(tuple2[-2])"
      ],
      "metadata": {
        "colab": {
          "base_uri": "https://localhost:8080/"
        },
        "id": "3i1hWGnbTJDh",
        "outputId": "5349627d-3309-4cd1-b460-db8fd5bd5c7e"
      },
      "execution_count": null,
      "outputs": [
        {
          "output_type": "stream",
          "name": "stdout",
          "text": [
            "blue\n"
          ]
        }
      ]
    },
    {
      "cell_type": "code",
      "source": [
        "# Finding minimum number of tuple\n",
        "tuple3 =  (10, 20, 5, 15)\n",
        "print(min(tuple3))"
      ],
      "metadata": {
        "colab": {
          "base_uri": "https://localhost:8080/"
        },
        "id": "qQ2Ncj2xTfQD",
        "outputId": "f1eccb69-7fd3-46ab-ca15-a184382c1142"
      },
      "execution_count": null,
      "outputs": [
        {
          "output_type": "stream",
          "name": "stdout",
          "text": [
            "5\n"
          ]
        }
      ]
    },
    {
      "cell_type": "code",
      "source": [
        "# Code to find index of 'cat'\n",
        "tuple4 =  ('dog', 'cat', 'rabbit')\n",
        "print(tuple4.index('cat'))"
      ],
      "metadata": {
        "colab": {
          "base_uri": "https://localhost:8080/"
        },
        "id": "_T5038qrTyzT",
        "outputId": "e42bd077-eb43-4d58-a275-2f54f0149262"
      },
      "execution_count": null,
      "outputs": [
        {
          "output_type": "stream",
          "name": "stdout",
          "text": [
            "1\n"
          ]
        }
      ]
    },
    {
      "cell_type": "code",
      "source": [
        "# Code to create a tuple containing three different fruits and check if \"kiwi\" is in it.\n",
        "tuple5 = (\"apple\", \"banana\", \"cherry\")\n",
        "print(\"kiwi\" in tuple5)"
      ],
      "metadata": {
        "colab": {
          "base_uri": "https://localhost:8080/"
        },
        "id": "p-5HmPCYUNzz",
        "outputId": "e44a5ed4-b789-42c6-b0ea-3276dfea70be"
      },
      "execution_count": null,
      "outputs": [
        {
          "output_type": "stream",
          "name": "stdout",
          "text": [
            "False\n"
          ]
        }
      ]
    },
    {
      "cell_type": "code",
      "source": [
        "# Create a set with three value a,b and c and print it\n",
        "set1 = {'a','b','c'}\n",
        "print(set1)"
      ],
      "metadata": {
        "colab": {
          "base_uri": "https://localhost:8080/"
        },
        "id": "w08ljyqIU23G",
        "outputId": "821fc132-66ed-4fcc-9ede-125897b93c1b"
      },
      "execution_count": null,
      "outputs": [
        {
          "output_type": "stream",
          "name": "stdout",
          "text": [
            "{'a', 'b', 'c'}\n"
          ]
        }
      ]
    },
    {
      "cell_type": "code",
      "source": [
        "#Code to clear the set\n",
        "set2 =  {1, 2, 3, 4, 5}\n",
        "set2.clear()\n",
        "print(set2)"
      ],
      "metadata": {
        "colab": {
          "base_uri": "https://localhost:8080/"
        },
        "id": "rBHzEO8IVF6K",
        "outputId": "03e28659-fadc-457e-ae27-b71e809e650e"
      },
      "execution_count": null,
      "outputs": [
        {
          "output_type": "stream",
          "name": "stdout",
          "text": [
            "set()\n"
          ]
        }
      ]
    },
    {
      "cell_type": "code",
      "source": [
        "# Code that remove the number 4 from the set\n",
        "set3 = {1,2,3,4}\n",
        "set3.remove(4)\n",
        "print(set3)"
      ],
      "metadata": {
        "colab": {
          "base_uri": "https://localhost:8080/"
        },
        "id": "ndZu8H_BVp2t",
        "outputId": "87c18aa8-29ef-49dd-ef6f-ffff4f8e5ef1"
      },
      "execution_count": null,
      "outputs": [
        {
          "output_type": "stream",
          "name": "stdout",
          "text": [
            "{1, 2, 3}\n"
          ]
        }
      ]
    },
    {
      "cell_type": "code",
      "source": [
        "# Union of two set\n",
        "a = {1,2,3}\n",
        "b = {3,4,5}\n",
        "print(a|b)"
      ],
      "metadata": {
        "colab": {
          "base_uri": "https://localhost:8080/"
        },
        "id": "uDCAsnYzWxsR",
        "outputId": "1fdda3df-600f-4387-ce64-042aa49613f4"
      },
      "execution_count": null,
      "outputs": [
        {
          "output_type": "stream",
          "name": "stdout",
          "text": [
            "{1, 2, 3, 4, 5}\n"
          ]
        }
      ]
    },
    {
      "cell_type": "code",
      "source": [
        "# Intersection of two sets\n",
        "a = {1,2,3}\n",
        "b = {2,3,4}\n",
        "print(a&b)"
      ],
      "metadata": {
        "colab": {
          "base_uri": "https://localhost:8080/"
        },
        "id": "NcNrQQk5W9In",
        "outputId": "43bb5347-9e4a-4ed2-be66-f92c0c6cb26c"
      },
      "execution_count": null,
      "outputs": [
        {
          "output_type": "stream",
          "name": "stdout",
          "text": [
            "{2, 3}\n"
          ]
        }
      ]
    },
    {
      "cell_type": "code",
      "source": [
        "# Creating a dictionary with the key name , age and city\n",
        "dict1 = {\"name\": \"Sushil\", \"age\": 22, \"city\": \"Jaipur\"}\n",
        "print(dict1)"
      ],
      "metadata": {
        "colab": {
          "base_uri": "https://localhost:8080/"
        },
        "id": "0X16yugjXbBi",
        "outputId": "01758717-02b6-44fe-d6c3-e8da11fb645e"
      },
      "execution_count": null,
      "outputs": [
        {
          "output_type": "stream",
          "name": "stdout",
          "text": [
            "{'name': 'Sushil', 'age': 22, 'city': 'Jaipur'}\n"
          ]
        }
      ]
    },
    {
      "cell_type": "code",
      "source": [
        "# Adding new key value pair in the dictionary\n",
        "dict1['country'] = \"India\"\n",
        "print(dict1)"
      ],
      "metadata": {
        "colab": {
          "base_uri": "https://localhost:8080/"
        },
        "id": "svPO65bdX7zc",
        "outputId": "fc6121d9-4d54-4c89-f0e8-a5737da90a29"
      },
      "execution_count": null,
      "outputs": [
        {
          "output_type": "stream",
          "name": "stdout",
          "text": [
            "{'name': 'Sushil', 'age': 22, 'city': 'Jaipur', 'country': 'India'}\n"
          ]
        }
      ]
    },
    {
      "cell_type": "code",
      "source": [
        "# Code to access the value associated with the key \"name\" in the dictionary\n",
        "dict2 =  {'name': 'Alice', 'age': 30}\n",
        "print(dict2['name'])"
      ],
      "metadata": {
        "colab": {
          "base_uri": "https://localhost:8080/"
        },
        "id": "lSFtKFsCYLcP",
        "outputId": "48adc910-67c3-4e04-ae61-c34cc131b4a5"
      },
      "execution_count": null,
      "outputs": [
        {
          "output_type": "stream",
          "name": "stdout",
          "text": [
            "Alice\n"
          ]
        }
      ]
    },
    {
      "cell_type": "code",
      "source": [
        "# code to remove the key \"age\" from the dictionary {'name': 'Bob', 'age': 22, 'city': 'New York'}\n",
        "dict3 = {'name': 'Bob', 'age': 22, 'city': 'New York'}\n",
        "dict3.pop('age')\n",
        "print(dict3)\n",
        "\n"
      ],
      "metadata": {
        "colab": {
          "base_uri": "https://localhost:8080/"
        },
        "id": "MrHMNqMqYr5s",
        "outputId": "ab5ecca5-d982-40d8-984b-df8b90e2f70d"
      },
      "execution_count": null,
      "outputs": [
        {
          "output_type": "stream",
          "name": "stdout",
          "text": [
            "{'name': 'Bob', 'city': 'New York'}\n"
          ]
        }
      ]
    },
    {
      "cell_type": "code",
      "source": [
        "# Code to check if the key \"city\" exists in the dictionary {'name': 'Alice', 'city': 'Paris'}\n",
        "dict4 = {'name': 'Alice', 'city': 'Paris'}\n",
        "print('city' in dict4)"
      ],
      "metadata": {
        "colab": {
          "base_uri": "https://localhost:8080/"
        },
        "id": "fjr1Rg8bbQoc",
        "outputId": "8fafcb1c-75eb-40b0-eade-3b7c98480bc0"
      },
      "execution_count": null,
      "outputs": [
        {
          "output_type": "stream",
          "name": "stdout",
          "text": [
            "True\n"
          ]
        }
      ]
    },
    {
      "cell_type": "code",
      "source": [
        "#  Code to create a list, a tuple, and a dictionary, and print them all.\n",
        "list = [43,\"Hello Sir/Mam\",5+6j, 5.67]\n",
        "tuple = (43,\"Hello Sir/Mam\",5+6j, 5.67)\n",
        "dict = {\"name\": \"Sushil\", \"age\": 22, \"city\": \"Jaipur\"}\n",
        "print(f\"{list}\\n{tuple}\\n{dict}\")\n",
        "\n",
        "\n"
      ],
      "metadata": {
        "colab": {
          "base_uri": "https://localhost:8080/"
        },
        "id": "lW62yH9Xb6ZV",
        "outputId": "eecb1947-126d-4ddb-e7b7-377ae2b76540"
      },
      "execution_count": null,
      "outputs": [
        {
          "output_type": "stream",
          "name": "stdout",
          "text": [
            "[43, 'Hello Sir/Mam', (5+6j), 5.67]\n",
            "(43, 'Hello Sir/Mam', (5+6j), 5.67)\n",
            "{'name': 'Sushil', 'age': 22, 'city': 'Jaipur'}\n"
          ]
        }
      ]
    },
    {
      "cell_type": "code",
      "source": [
        "# Code to create a list of 5 random numbers between 1 and 100, sort it in ascending order, and print the result\n",
        "lis = [32,45,89,33,57]\n",
        "lis.sort()\n",
        "print(lis)"
      ],
      "metadata": {
        "colab": {
          "base_uri": "https://localhost:8080/"
        },
        "id": "gPDvhfoIczjG",
        "outputId": "84466da9-0a7e-4c80-a2a4-4b4277e7806e"
      },
      "execution_count": null,
      "outputs": [
        {
          "output_type": "stream",
          "name": "stdout",
          "text": [
            "[32, 33, 45, 57, 89]\n"
          ]
        }
      ]
    },
    {
      "cell_type": "code",
      "source": [
        "# Code to create a list with strings and print the element at the third index.\n",
        "list_string = [\"Kashmir\",\"Mountain\",\"Prayagraj\",\"Nainitaal\"]\n",
        "print(list_string[3])"
      ],
      "metadata": {
        "colab": {
          "base_uri": "https://localhost:8080/"
        },
        "id": "4KBALq2FdSKJ",
        "outputId": "ae284c3b-98ea-47fd-f02a-0fa9a035059c"
      },
      "execution_count": null,
      "outputs": [
        {
          "output_type": "stream",
          "name": "stdout",
          "text": [
            "Nainitaal\n"
          ]
        }
      ]
    },
    {
      "cell_type": "code",
      "source": [
        "d1 = {\"City\":\"Jaipur\", \"Country\":\"India\"}\n",
        "d2 = {\"Skills\":\"Basic Java , Python , C++\", \"Language\":\"Hinglish\"}\n",
        "d1.update(d2)\n",
        "print(d1)\n",
        "\n",
        "# OR\n",
        "var1 = {**d2, **d1}\n",
        "print(var1)\n",
        "\n",
        "# OR\n",
        "var2 = d2|d1\n",
        "print(var2)\n",
        "\n",
        "# OR\n",
        "var3 = d1.copy()\n",
        "var3.update(d2)\n",
        "print(var3)\n",
        "\n",
        "#Through loop\n",
        "for i in d2:\n",
        "  d1[i] = d2[i]\n",
        "print(d1)\n",
        "\n",
        "# Another approach\n",
        "for key,value in d2.items():\n",
        "  var3[key] = value\n",
        "print(var3)\n",
        "\n",
        "\n"
      ],
      "metadata": {
        "colab": {
          "base_uri": "https://localhost:8080/"
        },
        "id": "-ALFudFtdyyi",
        "outputId": "f6b46ffa-f346-416f-f98e-8e1289c231c9"
      },
      "execution_count": null,
      "outputs": [
        {
          "output_type": "stream",
          "name": "stdout",
          "text": [
            "{'City': 'Jaipur', 'Country': 'India', 'Skills': 'Basic Java , Python , C++', 'Language': 'Hinglish'}\n",
            "{'Skills': 'Basic Java , Python , C++', 'Language': 'Hinglish', 'City': 'Jaipur', 'Country': 'India'}\n",
            "{'Skills': 'Basic Java , Python , C++', 'Language': 'Hinglish', 'City': 'Jaipur', 'Country': 'India'}\n",
            "{'City': 'Jaipur', 'Country': 'India', 'Skills': 'Basic Java , Python , C++', 'Language': 'Hinglish'}\n",
            "{'City': 'Jaipur', 'Country': 'India', 'Skills': 'Basic Java , Python , C++', 'Language': 'Hinglish'}\n",
            "{'City': 'Jaipur', 'Country': 'India', 'Skills': 'Basic Java , Python , C++', 'Language': 'Hinglish'}\n"
          ]
        }
      ]
    },
    {
      "cell_type": "code",
      "source": [
        "# Code to convert a list of strings into a set.\n",
        "listr = [\"Vague\",\"Consistent\",\"Approach\",\"Almighty\"]\n",
        "print(set(listr))"
      ],
      "metadata": {
        "colab": {
          "base_uri": "https://localhost:8080/"
        },
        "id": "2dFoyCmjhCCo",
        "outputId": "9a24a633-57dd-4979-db38-0e9db3913d81"
      },
      "execution_count": null,
      "outputs": [
        {
          "output_type": "stream",
          "name": "stdout",
          "text": [
            "{'Vague', 'Consistent', 'Almighty', 'Approach'}\n"
          ]
        }
      ]
    }
  ]
}